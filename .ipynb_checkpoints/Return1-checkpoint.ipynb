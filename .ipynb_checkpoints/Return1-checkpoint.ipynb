{
 "cells": [
  {
   "cell_type": "markdown",
   "metadata": {},
   "source": [
    "### for R1 we will use only goal code and conversions"
   ]
  },
  {
   "cell_type": "code",
   "execution_count": 1,
   "metadata": {},
   "outputs": [],
   "source": [
    "import os\n",
    "import sys\n",
    "\n",
    "import numpy as np\n",
    "import pandas as pd \n",
    "\n",
    "import pickle"
   ]
  },
  {
   "cell_type": "code",
   "execution_count": 34,
   "metadata": {},
   "outputs": [],
   "source": [
    "class Return_visible:\n",
    "    def __init__(self,path,**kwargs):\n",
    "        if os.path.exists(path)==False:\n",
    "            raise Exception('no data in the path.')\n",
    "        self.df=pd.read_csv(path)\n",
    "    \n",
    "        if kwargs['norm']==True:\n",
    "            self.norm=True\n",
    "        self.r1=list()\n",
    "        \n",
    "        for idx,col in self.df.iterrows():\n",
    "            goal=col['CampaignGoalCode']\n",
    "\n",
    "            visit=col['WebVisit']\n",
    "            collateral=col['CollateralView']\n",
    "            product=col['ProductView']\n",
    "            form=col['FormComplete']\n",
    "\n",
    "            conversion=[visit,collateral,product,form]\n",
    "            if goal=='Engagement':\n",
    "                weight=[0.4,0.1,0.2,0.3]\n",
    "            elif goal=='Awareness':\n",
    "                weight=[0.4,0.1,0.2,0.3]\n",
    "            elif goal=='Intent to Buy':\n",
    "                weight=[0.1,0.4,0.2,0.3]\n",
    "            elif goal=='Consideration':\n",
    "                weight=[0.1,0.2,0.4,0.3]\n",
    "            elif goal=='Purchase':\n",
    "                weight=[0.1,0.2,0.3,0.4]\n",
    "            self.r1.append(np.matmul(conversion,weight))\n",
    "        \n",
    "    def __len__(self):\n",
    "        return len(self.df)\n",
    "    \n",
    "    def __call__(self):\n",
    "        if self.norm==True:\n",
    "            self.r1=(self.r1-np.min(self.r1))/(np.max(self.r1)-np.min(self.r1))\n",
    "        output=pd.DataFrame(self.r1,columns=['return1'])\n",
    "        \n",
    "        if os.path.exists('Output')==False:\n",
    "            os.makedirs('Output')\n",
    "        output.to_csv('Output/return1.csv',index=False)\n",
    "        print('saved file in the Output folder')\n",
    "    "
   ]
  },
  {
   "cell_type": "code",
   "execution_count": 35,
   "metadata": {},
   "outputs": [],
   "source": [
    "rv=Return_visible('Data/data_preprocessed.csv',norm=True)"
   ]
  },
  {
   "cell_type": "code",
   "execution_count": 36,
   "metadata": {},
   "outputs": [
    {
     "name": "stdout",
     "output_type": "stream",
     "text": [
      "saved file in the Output folder\n"
     ]
    }
   ],
   "source": [
    "rv()"
   ]
  },
  {
   "cell_type": "markdown",
   "metadata": {},
   "source": [
    "### code "
   ]
  },
  {
   "cell_type": "code",
   "execution_count": 2,
   "metadata": {},
   "outputs": [],
   "source": [
    "df=pd.read_csv('Data/data_preprocessed.csv')"
   ]
  },
  {
   "cell_type": "code",
   "execution_count": 7,
   "metadata": {},
   "outputs": [
    {
     "data": {
      "text/plain": [
       "Engagement       272181\n",
       "Awareness         38528\n",
       "Intent to Buy     22976\n",
       "Consideration      5785\n",
       "Purchase            444\n",
       "Name: CampaignGoalCode, dtype: int64"
      ]
     },
     "execution_count": 7,
     "metadata": {},
     "output_type": "execute_result"
    }
   ],
   "source": [
    "df['CampaignGoalCode'].value_counts()"
   ]
  },
  {
   "cell_type": "code",
   "execution_count": 21,
   "metadata": {},
   "outputs": [],
   "source": [
    "R1=[]\n",
    "for idx,col in df.iterrows():\n",
    "    goal=col['CampaignGoalCode']\n",
    "    \n",
    "    visit=col['WebVisit']\n",
    "    collateral=col['CollateralView']\n",
    "    product=col['ProductView']\n",
    "    form=col['FormComplete']\n",
    "    \n",
    "    conversion=[visit,collateral,product,form]\n",
    "    if goal=='Engagement':\n",
    "        weight=[0.4,0.1,0.2,0.3]\n",
    "    elif goal=='Awareness':\n",
    "        weight=[0.4,0.1,0.2,0.3]\n",
    "    elif goal=='Intent to Buy':\n",
    "        weight=[0.1,0.4,0.2,0.3]\n",
    "    elif goal=='Consideration':\n",
    "        weight=[0.1,0.2,0.4,0.3]\n",
    "    elif goal=='Purchase':\n",
    "        weight=[0.1,0.2,0.3,0.4]\n",
    "    R1.append(np.matmul(conversion,weight))"
   ]
  },
  {
   "cell_type": "code",
   "execution_count": 22,
   "metadata": {},
   "outputs": [
    {
     "data": {
      "text/plain": [
       "0.1544284730843684"
      ]
     },
     "execution_count": 22,
     "metadata": {},
     "output_type": "execute_result"
    }
   ],
   "source": [
    "np.mean(R1)"
   ]
  },
  {
   "cell_type": "code",
   "execution_count": 23,
   "metadata": {},
   "outputs": [
    {
     "data": {
      "text/plain": [
       "115.60000000000001"
      ]
     },
     "execution_count": 23,
     "metadata": {},
     "output_type": "execute_result"
    }
   ],
   "source": [
    "np.max(R1)"
   ]
  },
  {
   "cell_type": "code",
   "execution_count": 24,
   "metadata": {},
   "outputs": [],
   "source": [
    "#normalize\n",
    "R1_norm = (R1-np.min(R1))/(np.max(R1)-np.min(R1))"
   ]
  },
  {
   "cell_type": "code",
   "execution_count": 27,
   "metadata": {},
   "outputs": [
    {
     "data": {
      "text/plain": [
       "1.0"
      ]
     },
     "execution_count": 27,
     "metadata": {},
     "output_type": "execute_result"
    }
   ],
   "source": [
    "np.max(R1_norm)"
   ]
  },
  {
   "cell_type": "code",
   "execution_count": 30,
   "metadata": {},
   "outputs": [],
   "source": [
    "pd.DataFrame(R1_norm,columns=['return1']).to_csv('Output/retur1.csv',index=False)"
   ]
  },
  {
   "cell_type": "code",
   "execution_count": null,
   "metadata": {},
   "outputs": [],
   "source": []
  }
 ],
 "metadata": {
  "kernelspec": {
   "display_name": "Python 3",
   "language": "python",
   "name": "python3"
  },
  "language_info": {
   "codemirror_mode": {
    "name": "ipython",
    "version": 3
   },
   "file_extension": ".py",
   "mimetype": "text/x-python",
   "name": "python",
   "nbconvert_exporter": "python",
   "pygments_lexer": "ipython3",
   "version": "3.6.13"
  }
 },
 "nbformat": 4,
 "nbformat_minor": 4
}
