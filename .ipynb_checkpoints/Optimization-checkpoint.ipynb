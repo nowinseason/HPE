{
 "cells": [
  {
   "cell_type": "code",
   "execution_count": 1,
   "metadata": {},
   "outputs": [],
   "source": [
    "import os\n",
    "import sys\n",
    "\n",
    "import numpy as np\n",
    "import pandas as pd \n",
    "\n",
    "import pickle"
   ]
  },
  {
   "cell_type": "code",
   "execution_count": 2,
   "metadata": {},
   "outputs": [],
   "source": [
    "df=pd.read_csv('Data/data_preprocessed.csv')"
   ]
  },
  {
   "cell_type": "code",
   "execution_count": 3,
   "metadata": {},
   "outputs": [],
   "source": [
    "r1=pd.read_csv('Output/return1.csv')"
   ]
  },
  {
   "cell_type": "code",
   "execution_count": 4,
   "metadata": {},
   "outputs": [],
   "source": [
    "ctr_pred=pd.read_csv('Output/CTR_pred.csv')"
   ]
  },
  {
   "cell_type": "code",
   "execution_count": 5,
   "metadata": {},
   "outputs": [],
   "source": [
    "#from return 2.R\n",
    "coef1=1\n",
    "coef2=1\n",
    "coef3=1\n",
    "r2=coef1*df['VideoCompletes']+coef2*df['SocialLikes']+coef3*df['SocialShares']"
   ]
  },
  {
   "cell_type": "code",
   "execution_count": 6,
   "metadata": {},
   "outputs": [],
   "source": [
    "strategy_col=['AdDigitalChannel','AudienceType','Spend']\n",
    "df_bid=df[strategy_col]"
   ]
  },
  {
   "cell_type": "code",
   "execution_count": 7,
   "metadata": {},
   "outputs": [],
   "source": [
    "ch_li=list(set(df_bid['AdDigitalChannel'].to_list()))\n",
    "ch_n=[1,2,3]\n",
    "ch_dict={}\n",
    "for i in range(len(ch_n)):\n",
    "    ch_dict[ch_li[i]]=ch_n[i]\n",
    "\n",
    "aud_li=list(set(df_bid['AudienceType'].to_list()))\n",
    "aud_n=[1,2,3,4,5]\n",
    "aud_dict={}\n",
    "for i in range(len(aud_n)):\n",
    "    aud_dict[aud_li[i]]=aud_n[i]"
   ]
  },
  {
   "cell_type": "code",
   "execution_count": 8,
   "metadata": {},
   "outputs": [
    {
     "name": "stderr",
     "output_type": "stream",
     "text": [
      "C:\\Users\\user\\.conda\\envs\\ch\\lib\\site-packages\\ipykernel_launcher.py:1: SettingWithCopyWarning: \n",
      "A value is trying to be set on a copy of a slice from a DataFrame.\n",
      "Try using .loc[row_indexer,col_indexer] = value instead\n",
      "\n",
      "See the caveats in the documentation: https://pandas.pydata.org/pandas-docs/stable/user_guide/indexing.html#returning-a-view-versus-a-copy\n",
      "  \"\"\"Entry point for launching an IPython kernel.\n",
      "C:\\Users\\user\\.conda\\envs\\ch\\lib\\site-packages\\ipykernel_launcher.py:2: SettingWithCopyWarning: \n",
      "A value is trying to be set on a copy of a slice from a DataFrame.\n",
      "Try using .loc[row_indexer,col_indexer] = value instead\n",
      "\n",
      "See the caveats in the documentation: https://pandas.pydata.org/pandas-docs/stable/user_guide/indexing.html#returning-a-view-versus-a-copy\n",
      "  \n"
     ]
    }
   ],
   "source": [
    "df_bid['AdDigitalChannel']=df_bid['AdDigitalChannel'].apply(lambda a:ch_dict[a])\n",
    "df_bid['AudienceType']=df_bid['AudienceType'].apply(lambda a:aud_dict[a])"
   ]
  },
  {
   "cell_type": "code",
   "execution_count": 10,
   "metadata": {},
   "outputs": [
    {
     "name": "stderr",
     "output_type": "stream",
     "text": [
      "C:\\Users\\user\\.conda\\envs\\ch\\lib\\site-packages\\ipykernel_launcher.py:1: SettingWithCopyWarning: \n",
      "A value is trying to be set on a copy of a slice from a DataFrame.\n",
      "Try using .loc[row_indexer,col_indexer] = value instead\n",
      "\n",
      "See the caveats in the documentation: https://pandas.pydata.org/pandas-docs/stable/user_guide/indexing.html#returning-a-view-versus-a-copy\n",
      "  \"\"\"Entry point for launching an IPython kernel.\n"
     ]
    }
   ],
   "source": [
    "df_bid['CTR']=ctr_pred"
   ]
  },
  {
   "cell_type": "code",
   "execution_count": 11,
   "metadata": {},
   "outputs": [
    {
     "name": "stderr",
     "output_type": "stream",
     "text": [
      "C:\\Users\\user\\.conda\\envs\\ch\\lib\\site-packages\\ipykernel_launcher.py:1: SettingWithCopyWarning: \n",
      "A value is trying to be set on a copy of a slice from a DataFrame.\n",
      "Try using .loc[row_indexer,col_indexer] = value instead\n",
      "\n",
      "See the caveats in the documentation: https://pandas.pydata.org/pandas-docs/stable/user_guide/indexing.html#returning-a-view-versus-a-copy\n",
      "  \"\"\"Entry point for launching an IPython kernel.\n"
     ]
    }
   ],
   "source": [
    "df_bid['Impressions']=df['Impressions']"
   ]
  },
  {
   "cell_type": "code",
   "execution_count": 12,
   "metadata": {},
   "outputs": [
    {
     "data": {
      "text/html": [
       "<div>\n",
       "<style scoped>\n",
       "    .dataframe tbody tr th:only-of-type {\n",
       "        vertical-align: middle;\n",
       "    }\n",
       "\n",
       "    .dataframe tbody tr th {\n",
       "        vertical-align: top;\n",
       "    }\n",
       "\n",
       "    .dataframe thead th {\n",
       "        text-align: right;\n",
       "    }\n",
       "</style>\n",
       "<table border=\"1\" class=\"dataframe\">\n",
       "  <thead>\n",
       "    <tr style=\"text-align: right;\">\n",
       "      <th></th>\n",
       "      <th>AdDigitalChannel</th>\n",
       "      <th>AudienceType</th>\n",
       "      <th>Spend</th>\n",
       "      <th>CTR</th>\n",
       "      <th>Impressions</th>\n",
       "    </tr>\n",
       "  </thead>\n",
       "  <tbody>\n",
       "    <tr>\n",
       "      <th>0</th>\n",
       "      <td>2</td>\n",
       "      <td>3</td>\n",
       "      <td>53</td>\n",
       "      <td>0.128256</td>\n",
       "      <td>38331</td>\n",
       "    </tr>\n",
       "    <tr>\n",
       "      <th>1</th>\n",
       "      <td>2</td>\n",
       "      <td>3</td>\n",
       "      <td>120</td>\n",
       "      <td>0.128256</td>\n",
       "      <td>36434</td>\n",
       "    </tr>\n",
       "    <tr>\n",
       "      <th>2</th>\n",
       "      <td>2</td>\n",
       "      <td>3</td>\n",
       "      <td>47</td>\n",
       "      <td>0.128256</td>\n",
       "      <td>24374</td>\n",
       "    </tr>\n",
       "    <tr>\n",
       "      <th>3</th>\n",
       "      <td>2</td>\n",
       "      <td>3</td>\n",
       "      <td>64</td>\n",
       "      <td>0.128256</td>\n",
       "      <td>33150</td>\n",
       "    </tr>\n",
       "  </tbody>\n",
       "</table>\n",
       "</div>"
      ],
      "text/plain": [
       "   AdDigitalChannel  AudienceType  Spend       CTR  Impressions\n",
       "0                 2             3     53  0.128256        38331\n",
       "1                 2             3    120  0.128256        36434\n",
       "2                 2             3     47  0.128256        24374\n",
       "3                 2             3     64  0.128256        33150"
      ]
     },
     "execution_count": 12,
     "metadata": {},
     "output_type": "execute_result"
    }
   ],
   "source": [
    "df_bid.head(4)"
   ]
  },
  {
   "cell_type": "code",
   "execution_count": 18,
   "metadata": {},
   "outputs": [
    {
     "name": "stderr",
     "output_type": "stream",
     "text": [
      "C:\\Users\\user\\.conda\\envs\\ch\\lib\\site-packages\\ipykernel_launcher.py:1: SettingWithCopyWarning: \n",
      "A value is trying to be set on a copy of a slice from a DataFrame.\n",
      "Try using .loc[row_indexer,col_indexer] = value instead\n",
      "\n",
      "See the caveats in the documentation: https://pandas.pydata.org/pandas-docs/stable/user_guide/indexing.html#returning-a-view-versus-a-copy\n",
      "  \"\"\"Entry point for launching an IPython kernel.\n"
     ]
    }
   ],
   "source": [
    "df_bid['utility']=r2+r1['return1']"
   ]
  },
  {
   "cell_type": "code",
   "execution_count": 19,
   "metadata": {},
   "outputs": [],
   "source": [
    "#optimization trick\n",
    "# if spend is 0, our equation also become zero, meaning that there is no effect on the result.\n",
    "# but the machine compute the zero spend data, so it create more cpu load. \n",
    "# thus we removed zero spend data from dataset, compute the optimization task."
   ]
  },
  {
   "cell_type": "code",
   "execution_count": 20,
   "metadata": {},
   "outputs": [],
   "source": [
    "df_bid=df_bid[df_bid['Spend']!=0]"
   ]
  },
  {
   "cell_type": "code",
   "execution_count": 21,
   "metadata": {},
   "outputs": [],
   "source": [
    "df_bid=df_bid[df_bid['Impressions']!=0]"
   ]
  },
  {
   "cell_type": "code",
   "execution_count": 22,
   "metadata": {},
   "outputs": [
    {
     "data": {
      "text/plain": [
       "(265325, 6)"
      ]
     },
     "execution_count": 22,
     "metadata": {},
     "output_type": "execute_result"
    }
   ],
   "source": [
    "df_bid=df_bid.reset_index(drop=True)\n",
    "df_bid.shape"
   ]
  },
  {
   "cell_type": "markdown",
   "metadata": {},
   "source": [
    "# gurobi work starts from here"
   ]
  },
  {
   "cell_type": "code",
   "execution_count": 23,
   "metadata": {},
   "outputs": [],
   "source": [
    "import gurobipy as gp\n",
    "from gurobipy import GRB"
   ]
  },
  {
   "cell_type": "code",
   "execution_count": 24,
   "metadata": {},
   "outputs": [],
   "source": [
    "winning_li=[x if x ==0 else 1 for x in df_bid['Spend']]\n",
    "idx_winning={}\n",
    "for i in range(len(df_bid)):\n",
    "    idx_winning[(df_bid['AdDigitalChannel'][i],df_bid['AudienceType'][i],df_bid['Impressions'][i])]=winning_li[i]"
   ]
  },
  {
   "cell_type": "code",
   "execution_count": 25,
   "metadata": {},
   "outputs": [],
   "source": [
    "idx_cost={}\n",
    "for i in range(len(df_bid)):\n",
    "    idx_cost[(df_bid['AdDigitalChannel'][i],df_bid['AudienceType'][i],df_bid['Impressions'][i])]=df_bid['Spend'][i]"
   ]
  },
  {
   "cell_type": "code",
   "execution_count": 26,
   "metadata": {},
   "outputs": [],
   "source": [
    "idx_utility={}\n",
    "for i in range(len(df_bid)):\n",
    "    idx_utility[(df_bid['AdDigitalChannel'][i],df_bid['AudienceType'][i],df_bid['Impressions'][i])]=df_bid['utility'][i]"
   ]
  },
  {
   "cell_type": "code",
   "execution_count": 27,
   "metadata": {},
   "outputs": [],
   "source": [
    "idx_ctr={}\n",
    "for i in range(len(df_bid)):\n",
    "    idx_ctr[(df_bid['AdDigitalChannel'][i],df_bid['AudienceType'][i],df_bid['Impressions'][i])]=df_bid['CTR'][i]"
   ]
  },
  {
   "cell_type": "code",
   "execution_count": 28,
   "metadata": {},
   "outputs": [],
   "source": [
    "ca_min={}\n",
    "for i in range(len(df_bid)):\n",
    "    ca_min[(df_bid['AdDigitalChannel'][i],df_bid['AudienceType'][i])]=20"
   ]
  },
  {
   "cell_type": "code",
   "execution_count": 29,
   "metadata": {},
   "outputs": [
    {
     "name": "stdout",
     "output_type": "stream",
     "text": [
      "Academic license - for non-commercial use only - expires 2024-03-07\n",
      "Using license file C:\\Users\\user\\gurobi.lic\n",
      "Gurobi Optimizer version 9.1.2 build v9.1.2rc0 (win64)\n",
      "Thread count: 4 physical cores, 8 logical processors, using up to 8 threads\n",
      "Optimize a model with 17 rows, 80771 columns and 242313 nonzeros\n",
      "Model fingerprint: 0xe2b6e2fb\n",
      "Variable types: 0 continuous, 80771 integer (80771 binary)\n",
      "Coefficient statistics:\n",
      "  Matrix range     [1e+00, 2e+02]\n",
      "  Objective range  [1e-04, 6e+03]\n",
      "  Bounds range     [1e+00, 1e+00]\n",
      "  RHS range        [2e+01, 1e+03]\n",
      "Found heuristic solution: objective 675.8044624\n",
      "Presolve removed 8 rows and 65997 columns\n",
      "Presolve time: 0.19s\n",
      "Presolved: 9 rows, 14774 columns, 29548 nonzeros\n",
      "Found heuristic solution: objective 49800.344261\n",
      "Variable types: 0 continuous, 14774 integer (13303 binary)\n",
      "\n",
      "Root relaxation: objective 7.920861e+04, 14 iterations, 0.01 seconds\n",
      "\n",
      "    Nodes    |    Current Node    |     Objective Bounds      |     Work\n",
      " Expl Unexpl |  Obj  Depth IntInf | Incumbent    BestBd   Gap | It/Node Time\n",
      "\n",
      "     0     0 79208.6092    0    2 49800.3443 79208.6092  59.1%     -    0s\n",
      "H    0     0                    78814.655020 79208.6092  0.50%     -    0s\n",
      "H    0     0                    79188.051512 79208.6092  0.03%     -    0s\n",
      "H    0     0                    79192.038126 79208.6092  0.02%     -    0s\n",
      "H    0     0                    79203.918059 79208.6092  0.01%     -    0s\n",
      "\n",
      "Cutting planes:\n",
      "  Cover: 2\n",
      "\n",
      "Explored 1 nodes (14 simplex iterations) in 0.55 seconds\n",
      "Thread count was 8 (of 8 available processors)\n",
      "\n",
      "Solution count 6: 79203.9 79192 79188.1 ... 675.804\n",
      "\n",
      "Optimal solution found (tolerance 1.00e-04)\n",
      "Best objective 7.920391805880e+04, best bound 7.920860917644e+04, gap 0.0059%\n"
     ]
    }
   ],
   "source": [
    "C_T_I,winning=gp.multidict(idx_winning)\n",
    "C_T_I,cost=gp.multidict(idx_cost)\n",
    "C_T_I,utility=gp.multidict(idx_utility)\n",
    "C_T_I,ctr=gp.multidict(idx_ctr)\n",
    "T_I,min_=gp.multidict(ca_min)\n",
    "mo = gp.Model('RTB')\n",
    "\n",
    "x=mo.addVars(C_T_I, vtype=GRB.BINARY,name='assign')\n",
    "\n",
    "#min const\n",
    "pub = {}\n",
    "for t,i in ca_min:\n",
    "    pub[t,i] = mo.addConstr(gp.quicksum(x[t,i,k] for tt,ii,k in C_T_I if (tt ==t and ii == i) ) >= 20, \n",
    "                                          name ='min_con' + str(t) + ',' + str(i) )\n",
    "\n",
    "#max const    \n",
    "pub2 = {}\n",
    "for t,i in ca_min:\n",
    "    pub2[t,i] = mo.addConstr(gp.quicksum(x[t,i,k] for tt,ii,k in C_T_I if (tt ==t and ii == i) ) <= 500, \n",
    "                                          name ='max_con' + str(t) + ',' + str(i) )\n",
    "\n",
    "#total const\n",
    "max_bud = mo.addConstr(x.prod(cost) <= 1000, name='max_budget')\n",
    "\n",
    "#min_bud = mo.addConstrs((x[i]*cost[i] >=20 for i in C_T_I), name='min_budget')\n",
    "#min_bud = mo.addConstr(x.prod(cost) >= 20, name='min_budget')\n",
    "\n",
    "#objective\n",
    "obj= gp.quicksum(x[i]*utility[i]*winning[i]*ctr[i] for i in x)\n",
    "\n",
    "#optimize\n",
    "mo.setObjective(obj, GRB.MAXIMIZE)\n",
    "mo.optimize()"
   ]
  },
  {
   "cell_type": "code",
   "execution_count": 30,
   "metadata": {},
   "outputs": [],
   "source": [
    "c_t_util={}\n",
    "c_t_cost={}\n",
    "\n",
    "for c,t,i in C_T_I:\n",
    "    if x[c,t,i].x > 0:\n",
    "        if c_t_util.get((c,t))==None:\n",
    "            c_t_util[(c,t)]=0\n",
    "        if c_t_cost.get((c,t))==None:\n",
    "            c_t_cost[(c,t)]=0\n",
    "        c_t_util[(c,t)]=c_t_util[(c,t)]+utility[c,t,i]*x[c,t,i].x\n",
    "        c_t_cost[(c,t)]=c_t_cost[(c,t)]+cost[c,t,i]*x[c,t,i].x\n",
    "        "
   ]
  },
  {
   "cell_type": "code",
   "execution_count": 31,
   "metadata": {},
   "outputs": [],
   "source": [
    "result = pd.DataFrame(columns=[\"chtype\", \"audtype\", \"utility\",'cost'])\n",
    "for key in c_t_util.keys():\n",
    "    result=result.append({\"chtype\": key[0], \"audtype\": key[1], \"utility\": c_t_util[key],\"cost\":c_t_cost[key]}, ignore_index=True)  \n"
   ]
  },
  {
   "cell_type": "code",
   "execution_count": 32,
   "metadata": {},
   "outputs": [],
   "source": [
    "def get_keys_from_value(d, val):\n",
    "    output=[k for k, v in d.items() if v == val][0]\n",
    "    return output"
   ]
  },
  {
   "cell_type": "code",
   "execution_count": 33,
   "metadata": {},
   "outputs": [
    {
     "data": {
      "text/html": [
       "<div>\n",
       "<style scoped>\n",
       "    .dataframe tbody tr th:only-of-type {\n",
       "        vertical-align: middle;\n",
       "    }\n",
       "\n",
       "    .dataframe tbody tr th {\n",
       "        vertical-align: top;\n",
       "    }\n",
       "\n",
       "    .dataframe thead th {\n",
       "        text-align: right;\n",
       "    }\n",
       "</style>\n",
       "<table border=\"1\" class=\"dataframe\">\n",
       "  <thead>\n",
       "    <tr style=\"text-align: right;\">\n",
       "      <th></th>\n",
       "      <th>chtype</th>\n",
       "      <th>audtype</th>\n",
       "      <th>utility</th>\n",
       "      <th>cost</th>\n",
       "    </tr>\n",
       "  </thead>\n",
       "  <tbody>\n",
       "    <tr>\n",
       "      <th>0</th>\n",
       "      <td>Search</td>\n",
       "      <td>Audience Type 1</td>\n",
       "      <td>26324.038062</td>\n",
       "      <td>155.0</td>\n",
       "    </tr>\n",
       "    <tr>\n",
       "      <th>1</th>\n",
       "      <td>Programmatic Display</td>\n",
       "      <td>Audience Type 3</td>\n",
       "      <td>132056.230969</td>\n",
       "      <td>390.0</td>\n",
       "    </tr>\n",
       "    <tr>\n",
       "      <th>2</th>\n",
       "      <td>Search</td>\n",
       "      <td>Audience Type 5</td>\n",
       "      <td>9.000000</td>\n",
       "      <td>20.0</td>\n",
       "    </tr>\n",
       "    <tr>\n",
       "      <th>3</th>\n",
       "      <td>Programmatic Display</td>\n",
       "      <td>Audience Type 5</td>\n",
       "      <td>0.000000</td>\n",
       "      <td>20.0</td>\n",
       "    </tr>\n",
       "    <tr>\n",
       "      <th>4</th>\n",
       "      <td>Programmatic Display</td>\n",
       "      <td>Audience Type 2</td>\n",
       "      <td>1155.000000</td>\n",
       "      <td>20.0</td>\n",
       "    </tr>\n",
       "    <tr>\n",
       "      <th>5</th>\n",
       "      <td>Programmatic Display</td>\n",
       "      <td>Audience Type 4</td>\n",
       "      <td>48370.138408</td>\n",
       "      <td>113.0</td>\n",
       "    </tr>\n",
       "    <tr>\n",
       "      <th>6</th>\n",
       "      <td>Social</td>\n",
       "      <td>Audience Type 2</td>\n",
       "      <td>0.000000</td>\n",
       "      <td>20.0</td>\n",
       "    </tr>\n",
       "    <tr>\n",
       "      <th>7</th>\n",
       "      <td>Social</td>\n",
       "      <td>Audience Type 3</td>\n",
       "      <td>29082.000000</td>\n",
       "      <td>262.0</td>\n",
       "    </tr>\n",
       "  </tbody>\n",
       "</table>\n",
       "</div>"
      ],
      "text/plain": [
       "                 chtype          audtype        utility   cost\n",
       "0                Search  Audience Type 1   26324.038062  155.0\n",
       "1  Programmatic Display  Audience Type 3  132056.230969  390.0\n",
       "2                Search  Audience Type 5       9.000000   20.0\n",
       "3  Programmatic Display  Audience Type 5       0.000000   20.0\n",
       "4  Programmatic Display  Audience Type 2    1155.000000   20.0\n",
       "5  Programmatic Display  Audience Type 4   48370.138408  113.0\n",
       "6                Social  Audience Type 2       0.000000   20.0\n",
       "7                Social  Audience Type 3   29082.000000  262.0"
      ]
     },
     "execution_count": 33,
     "metadata": {},
     "output_type": "execute_result"
    }
   ],
   "source": [
    "result['chtype']=result['chtype'].apply(lambda x : get_keys_from_value(ch_dict,x))\n",
    "result['audtype']=result['audtype'].apply(lambda x : get_keys_from_value(aud_dict,x))\n",
    "result"
   ]
  },
  {
   "cell_type": "code",
   "execution_count": 34,
   "metadata": {},
   "outputs": [
    {
     "name": "stdout",
     "output_type": "stream",
     "text": [
      "the entire cost is 1000.0\n"
     ]
    }
   ],
   "source": [
    "print('the entire cost is {}'.format(sum(result['cost'].tolist())))"
   ]
  },
  {
   "cell_type": "code",
   "execution_count": null,
   "metadata": {},
   "outputs": [],
   "source": []
  }
 ],
 "metadata": {
  "kernelspec": {
   "display_name": "Python 3",
   "language": "python",
   "name": "python3"
  },
  "language_info": {
   "codemirror_mode": {
    "name": "ipython",
    "version": 3
   },
   "file_extension": ".py",
   "mimetype": "text/x-python",
   "name": "python",
   "nbconvert_exporter": "python",
   "pygments_lexer": "ipython3",
   "version": "3.6.13"
  }
 },
 "nbformat": 4,
 "nbformat_minor": 4
}
