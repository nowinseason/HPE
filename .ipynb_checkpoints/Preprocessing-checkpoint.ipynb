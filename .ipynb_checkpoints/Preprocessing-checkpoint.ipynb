{
 "cells": [
  {
   "cell_type": "code",
   "execution_count": 1,
   "metadata": {},
   "outputs": [],
   "source": [
    "import os\n",
    "import sys\n",
    "\n",
    "import numpy as np\n",
    "import pandas as pd "
   ]
  },
  {
   "cell_type": "code",
   "execution_count": 13,
   "metadata": {},
   "outputs": [
    {
     "data": {
      "text/html": [
       "<div>\n",
       "<style scoped>\n",
       "    .dataframe tbody tr th:only-of-type {\n",
       "        vertical-align: middle;\n",
       "    }\n",
       "\n",
       "    .dataframe tbody tr th {\n",
       "        vertical-align: top;\n",
       "    }\n",
       "\n",
       "    .dataframe thead th {\n",
       "        text-align: right;\n",
       "    }\n",
       "</style>\n",
       "<table border=\"1\" class=\"dataframe\">\n",
       "  <thead>\n",
       "    <tr style=\"text-align: right;\">\n",
       "      <th></th>\n",
       "      <th>Date</th>\n",
       "      <th>CampaignID</th>\n",
       "      <th>CampaignGoalCode</th>\n",
       "      <th>CampaignAdID</th>\n",
       "      <th>AdDigitalChannel</th>\n",
       "      <th>Adchannelpartner</th>\n",
       "      <th>AdDevice</th>\n",
       "      <th>AdGroup</th>\n",
       "      <th>AdContentID</th>\n",
       "      <th>AdContentType</th>\n",
       "      <th>...</th>\n",
       "      <th>Spend</th>\n",
       "      <th>Impressions</th>\n",
       "      <th>Clicks</th>\n",
       "      <th>VideoCompletes</th>\n",
       "      <th>SocialLikes</th>\n",
       "      <th>SocialShares</th>\n",
       "      <th>WebVisit</th>\n",
       "      <th>CollateralView</th>\n",
       "      <th>ProductView</th>\n",
       "      <th>FormComplete</th>\n",
       "    </tr>\n",
       "  </thead>\n",
       "  <tbody>\n",
       "    <tr>\n",
       "      <th>0</th>\n",
       "      <td>9/29/22</td>\n",
       "      <td>4</td>\n",
       "      <td>Engagement</td>\n",
       "      <td>267</td>\n",
       "      <td>Programmatic Display</td>\n",
       "      <td>Channel Partner 3</td>\n",
       "      <td>NaN</td>\n",
       "      <td>NaN</td>\n",
       "      <td>1.0</td>\n",
       "      <td>Text</td>\n",
       "      <td>...</td>\n",
       "      <td>53</td>\n",
       "      <td>38331</td>\n",
       "      <td>35000</td>\n",
       "      <td>0</td>\n",
       "      <td>0</td>\n",
       "      <td>0</td>\n",
       "      <td>0</td>\n",
       "      <td>0</td>\n",
       "      <td>0</td>\n",
       "      <td>0</td>\n",
       "    </tr>\n",
       "    <tr>\n",
       "      <th>1</th>\n",
       "      <td>9/29/22</td>\n",
       "      <td>4</td>\n",
       "      <td>Engagement</td>\n",
       "      <td>299</td>\n",
       "      <td>Programmatic Display</td>\n",
       "      <td>Channel Partner 3</td>\n",
       "      <td>NaN</td>\n",
       "      <td>NaN</td>\n",
       "      <td>1.0</td>\n",
       "      <td>Text</td>\n",
       "      <td>...</td>\n",
       "      <td>120</td>\n",
       "      <td>36434</td>\n",
       "      <td>32500</td>\n",
       "      <td>0</td>\n",
       "      <td>0</td>\n",
       "      <td>0</td>\n",
       "      <td>0</td>\n",
       "      <td>0</td>\n",
       "      <td>0</td>\n",
       "      <td>0</td>\n",
       "    </tr>\n",
       "    <tr>\n",
       "      <th>2</th>\n",
       "      <td>9/29/22</td>\n",
       "      <td>4</td>\n",
       "      <td>Engagement</td>\n",
       "      <td>270</td>\n",
       "      <td>Programmatic Display</td>\n",
       "      <td>Channel Partner 3</td>\n",
       "      <td>NaN</td>\n",
       "      <td>NaN</td>\n",
       "      <td>1.0</td>\n",
       "      <td>Text</td>\n",
       "      <td>...</td>\n",
       "      <td>47</td>\n",
       "      <td>24374</td>\n",
       "      <td>20000</td>\n",
       "      <td>0</td>\n",
       "      <td>0</td>\n",
       "      <td>0</td>\n",
       "      <td>0</td>\n",
       "      <td>0</td>\n",
       "      <td>0</td>\n",
       "      <td>0</td>\n",
       "    </tr>\n",
       "  </tbody>\n",
       "</table>\n",
       "<p>3 rows × 21 columns</p>\n",
       "</div>"
      ],
      "text/plain": [
       "      Date  CampaignID CampaignGoalCode  CampaignAdID      AdDigitalChannel  \\\n",
       "0  9/29/22           4       Engagement           267  Programmatic Display   \n",
       "1  9/29/22           4       Engagement           299  Programmatic Display   \n",
       "2  9/29/22           4       Engagement           270  Programmatic Display   \n",
       "\n",
       "    Adchannelpartner AdDevice  AdGroup  AdContentID AdContentType  ... Spend  \\\n",
       "0  Channel Partner 3      NaN      NaN          1.0          Text  ...    53   \n",
       "1  Channel Partner 3      NaN      NaN          1.0          Text  ...   120   \n",
       "2  Channel Partner 3      NaN      NaN          1.0          Text  ...    47   \n",
       "\n",
       "   Impressions  Clicks  VideoCompletes  SocialLikes  SocialShares  WebVisit  \\\n",
       "0        38331   35000               0            0             0         0   \n",
       "1        36434   32500               0            0             0         0   \n",
       "2        24374   20000               0            0             0         0   \n",
       "\n",
       "   CollateralView  ProductView  FormComplete  \n",
       "0               0            0             0  \n",
       "1               0            0             0  \n",
       "2               0            0             0  \n",
       "\n",
       "[3 rows x 21 columns]"
      ]
     },
     "execution_count": 13,
     "metadata": {},
     "output_type": "execute_result"
    }
   ],
   "source": [
    "df=pd.read_csv('Data/original_data.csv')\n",
    "df.columns=[col.replace(' ', '').replace('#','').replace('$','') for col in df.columns]\n",
    "df.head(3)"
   ]
  },
  {
   "cell_type": "markdown",
   "metadata": {},
   "source": [
    "## Data preprocessing"
   ]
  },
  {
   "cell_type": "code",
   "execution_count": 14,
   "metadata": {},
   "outputs": [],
   "source": [
    "df['Date']=pd.to_datetime(df['Date'])"
   ]
  },
  {
   "cell_type": "code",
   "execution_count": 15,
   "metadata": {},
   "outputs": [
    {
     "name": "stdout",
     "output_type": "stream",
     "text": [
      "AdDevice column has 257918 number of null data\n",
      "AdGroup column has 257918 number of null data\n",
      "AdContentID column has 143989 number of null data\n",
      "AdContentType column has 97 number of null data\n"
     ]
    }
   ],
   "source": [
    "# Null check\n",
    "for a,b in enumerate(df.isna().sum()):\n",
    "    if b != 0:\n",
    "        print('{} column has {} number of null data'.format(df.columns[a],b))"
   ]
  },
  {
   "cell_type": "code",
   "execution_count": 16,
   "metadata": {},
   "outputs": [],
   "source": [
    "df=df.dropna(subset=['AdContentType'])"
   ]
  },
  {
   "cell_type": "code",
   "execution_count": 17,
   "metadata": {},
   "outputs": [
    {
     "name": "stdout",
     "output_type": "stream",
     "text": [
      "There are 39128 duplicate rows in the DataFrame.\n"
     ]
    }
   ],
   "source": [
    "duplicate_rows = df.duplicated()\n",
    "num_dup_rows = sum(duplicate_rows)\n",
    "print(\"There are {} duplicate rows in the DataFrame.\".format(num_dup_rows))"
   ]
  },
  {
   "cell_type": "code",
   "execution_count": 18,
   "metadata": {},
   "outputs": [
    {
     "name": "stdout",
     "output_type": "stream",
     "text": [
      "The DataFrame now has shape (339914, 21).\n"
     ]
    }
   ],
   "source": [
    "df = df.drop_duplicates()\n",
    "print(\"The DataFrame now has shape {}.\".format(df.shape))"
   ]
  },
  {
   "cell_type": "code",
   "execution_count": 19,
   "metadata": {},
   "outputs": [],
   "source": [
    "# Label CTR \n",
    "ctr=list()\n",
    "clicks=df['Clicks'].tolist()\n",
    "impression=df['Impressions'].tolist()\n",
    "\n",
    "for i in range(len(clicks)):\n",
    "    if impression[i]==0:\n",
    "        ctr.append(0)\n",
    "    else:\n",
    "        ctr.append(clicks[i]/impression[i])\n",
    "df['CTR']=ctr\n",
    "# round CTR\n",
    "df['CTR']=df['CTR'].apply(lambda x : round(x))"
   ]
  },
  {
   "cell_type": "code",
   "execution_count": 20,
   "metadata": {},
   "outputs": [
    {
     "data": {
      "text/html": [
       "<div>\n",
       "<style scoped>\n",
       "    .dataframe tbody tr th:only-of-type {\n",
       "        vertical-align: middle;\n",
       "    }\n",
       "\n",
       "    .dataframe tbody tr th {\n",
       "        vertical-align: top;\n",
       "    }\n",
       "\n",
       "    .dataframe thead th {\n",
       "        text-align: right;\n",
       "    }\n",
       "</style>\n",
       "<table border=\"1\" class=\"dataframe\">\n",
       "  <thead>\n",
       "    <tr style=\"text-align: right;\">\n",
       "      <th></th>\n",
       "      <th>Date</th>\n",
       "      <th>CampaignID</th>\n",
       "      <th>CampaignGoalCode</th>\n",
       "      <th>CampaignAdID</th>\n",
       "      <th>AdDigitalChannel</th>\n",
       "      <th>Adchannelpartner</th>\n",
       "      <th>AdDevice</th>\n",
       "      <th>AdGroup</th>\n",
       "      <th>AdContentID</th>\n",
       "      <th>AdContentType</th>\n",
       "      <th>...</th>\n",
       "      <th>Impressions</th>\n",
       "      <th>Clicks</th>\n",
       "      <th>VideoCompletes</th>\n",
       "      <th>SocialLikes</th>\n",
       "      <th>SocialShares</th>\n",
       "      <th>WebVisit</th>\n",
       "      <th>CollateralView</th>\n",
       "      <th>ProductView</th>\n",
       "      <th>FormComplete</th>\n",
       "      <th>CTR</th>\n",
       "    </tr>\n",
       "  </thead>\n",
       "  <tbody>\n",
       "    <tr>\n",
       "      <th>0</th>\n",
       "      <td>2022-09-29</td>\n",
       "      <td>4</td>\n",
       "      <td>Engagement</td>\n",
       "      <td>267</td>\n",
       "      <td>Programmatic Display</td>\n",
       "      <td>Channel Partner 3</td>\n",
       "      <td>NaN</td>\n",
       "      <td>NaN</td>\n",
       "      <td>1.0</td>\n",
       "      <td>Text</td>\n",
       "      <td>...</td>\n",
       "      <td>38331</td>\n",
       "      <td>35000</td>\n",
       "      <td>0</td>\n",
       "      <td>0</td>\n",
       "      <td>0</td>\n",
       "      <td>0</td>\n",
       "      <td>0</td>\n",
       "      <td>0</td>\n",
       "      <td>0</td>\n",
       "      <td>1</td>\n",
       "    </tr>\n",
       "    <tr>\n",
       "      <th>1</th>\n",
       "      <td>2022-09-29</td>\n",
       "      <td>4</td>\n",
       "      <td>Engagement</td>\n",
       "      <td>299</td>\n",
       "      <td>Programmatic Display</td>\n",
       "      <td>Channel Partner 3</td>\n",
       "      <td>NaN</td>\n",
       "      <td>NaN</td>\n",
       "      <td>1.0</td>\n",
       "      <td>Text</td>\n",
       "      <td>...</td>\n",
       "      <td>36434</td>\n",
       "      <td>32500</td>\n",
       "      <td>0</td>\n",
       "      <td>0</td>\n",
       "      <td>0</td>\n",
       "      <td>0</td>\n",
       "      <td>0</td>\n",
       "      <td>0</td>\n",
       "      <td>0</td>\n",
       "      <td>1</td>\n",
       "    </tr>\n",
       "    <tr>\n",
       "      <th>2</th>\n",
       "      <td>2022-09-29</td>\n",
       "      <td>4</td>\n",
       "      <td>Engagement</td>\n",
       "      <td>270</td>\n",
       "      <td>Programmatic Display</td>\n",
       "      <td>Channel Partner 3</td>\n",
       "      <td>NaN</td>\n",
       "      <td>NaN</td>\n",
       "      <td>1.0</td>\n",
       "      <td>Text</td>\n",
       "      <td>...</td>\n",
       "      <td>24374</td>\n",
       "      <td>20000</td>\n",
       "      <td>0</td>\n",
       "      <td>0</td>\n",
       "      <td>0</td>\n",
       "      <td>0</td>\n",
       "      <td>0</td>\n",
       "      <td>0</td>\n",
       "      <td>0</td>\n",
       "      <td>1</td>\n",
       "    </tr>\n",
       "    <tr>\n",
       "      <th>3</th>\n",
       "      <td>2022-09-29</td>\n",
       "      <td>4</td>\n",
       "      <td>Engagement</td>\n",
       "      <td>279</td>\n",
       "      <td>Programmatic Display</td>\n",
       "      <td>Channel Partner 3</td>\n",
       "      <td>NaN</td>\n",
       "      <td>NaN</td>\n",
       "      <td>1.0</td>\n",
       "      <td>Text</td>\n",
       "      <td>...</td>\n",
       "      <td>33150</td>\n",
       "      <td>17500</td>\n",
       "      <td>0</td>\n",
       "      <td>0</td>\n",
       "      <td>0</td>\n",
       "      <td>1</td>\n",
       "      <td>0</td>\n",
       "      <td>0</td>\n",
       "      <td>0</td>\n",
       "      <td>1</td>\n",
       "    </tr>\n",
       "    <tr>\n",
       "      <th>4</th>\n",
       "      <td>2022-09-29</td>\n",
       "      <td>4</td>\n",
       "      <td>Engagement</td>\n",
       "      <td>266</td>\n",
       "      <td>Programmatic Display</td>\n",
       "      <td>Channel Partner 3</td>\n",
       "      <td>NaN</td>\n",
       "      <td>NaN</td>\n",
       "      <td>1.0</td>\n",
       "      <td>Text</td>\n",
       "      <td>...</td>\n",
       "      <td>18490</td>\n",
       "      <td>17000</td>\n",
       "      <td>0</td>\n",
       "      <td>0</td>\n",
       "      <td>0</td>\n",
       "      <td>0</td>\n",
       "      <td>0</td>\n",
       "      <td>0</td>\n",
       "      <td>0</td>\n",
       "      <td>1</td>\n",
       "    </tr>\n",
       "  </tbody>\n",
       "</table>\n",
       "<p>5 rows × 22 columns</p>\n",
       "</div>"
      ],
      "text/plain": [
       "        Date  CampaignID CampaignGoalCode  CampaignAdID      AdDigitalChannel  \\\n",
       "0 2022-09-29           4       Engagement           267  Programmatic Display   \n",
       "1 2022-09-29           4       Engagement           299  Programmatic Display   \n",
       "2 2022-09-29           4       Engagement           270  Programmatic Display   \n",
       "3 2022-09-29           4       Engagement           279  Programmatic Display   \n",
       "4 2022-09-29           4       Engagement           266  Programmatic Display   \n",
       "\n",
       "    Adchannelpartner AdDevice  AdGroup  AdContentID AdContentType  ...  \\\n",
       "0  Channel Partner 3      NaN      NaN          1.0          Text  ...   \n",
       "1  Channel Partner 3      NaN      NaN          1.0          Text  ...   \n",
       "2  Channel Partner 3      NaN      NaN          1.0          Text  ...   \n",
       "3  Channel Partner 3      NaN      NaN          1.0          Text  ...   \n",
       "4  Channel Partner 3      NaN      NaN          1.0          Text  ...   \n",
       "\n",
       "  Impressions  Clicks  VideoCompletes  SocialLikes  SocialShares  WebVisit  \\\n",
       "0       38331   35000               0            0             0         0   \n",
       "1       36434   32500               0            0             0         0   \n",
       "2       24374   20000               0            0             0         0   \n",
       "3       33150   17500               0            0             0         1   \n",
       "4       18490   17000               0            0             0         0   \n",
       "\n",
       "   CollateralView  ProductView  FormComplete  CTR  \n",
       "0               0            0             0    1  \n",
       "1               0            0             0    1  \n",
       "2               0            0             0    1  \n",
       "3               0            0             0    1  \n",
       "4               0            0             0    1  \n",
       "\n",
       "[5 rows x 22 columns]"
      ]
     },
     "execution_count": 20,
     "metadata": {},
     "output_type": "execute_result"
    }
   ],
   "source": [
    "df.head()"
   ]
  },
  {
   "cell_type": "code",
   "execution_count": 21,
   "metadata": {},
   "outputs": [],
   "source": [
    "df.to_csv('Data/data_preprocessed.csv',index=False)"
   ]
  },
  {
   "cell_type": "markdown",
   "metadata": {},
   "source": [
    "### Under from here, all codes are for the tree model, we will use R for logistic regression below codes are useless.\n"
   ]
  },
  {
   "cell_type": "code",
   "execution_count": 10,
   "metadata": {},
   "outputs": [],
   "source": [
    "df=pd.get_dummies(df,\n",
    "                  columns=['CampaignID',\n",
    "                               'CampaignGoalCode',\n",
    "                               'AdDigitalChannel',\n",
    "                               'Adchannelpartner',\n",
    "                               'AdDevice',\n",
    "                               'AdContentType',\n",
    "                               'AudienceType'],\n",
    "                  drop_first=False)"
   ]
  },
  {
   "cell_type": "code",
   "execution_count": 40,
   "metadata": {},
   "outputs": [
    {
     "data": {
      "text/plain": [
       "['CampaignID_1',\n",
       " 'CampaignID_2',\n",
       " 'CampaignID_3',\n",
       " 'CampaignID_4',\n",
       " 'CampaignID_5',\n",
       " 'CampaignGoalCode_Awareness',\n",
       " 'CampaignGoalCode_Consideration',\n",
       " 'CampaignGoalCode_Engagement',\n",
       " 'CampaignGoalCode_Intent to Buy',\n",
       " 'CampaignGoalCode_Purchase',\n",
       " 'AdDigitalChannel_Programmatic Display',\n",
       " 'AdDigitalChannel_Search',\n",
       " 'AdDigitalChannel_Social',\n",
       " 'Adchannelpartner_Channel Partner 1',\n",
       " 'Adchannelpartner_Channel Partner 2',\n",
       " 'Adchannelpartner_Channel Partner 3',\n",
       " 'Adchannelpartner_Channel Partner 4',\n",
       " 'Adchannelpartner_Channel Partner 5',\n",
       " 'Adchannelpartner_Channel Partner 6',\n",
       " 'Adchannelpartner_Channel Partner 7',\n",
       " 'Adchannelpartner_Channel Partner 9',\n",
       " 'AdDevice_Computers',\n",
       " 'AdDevice_Mobile',\n",
       " 'AdDevice_Tablets',\n",
       " 'AdContentType_Image',\n",
       " 'AdContentType_Text',\n",
       " 'AdContentType_Video',\n",
       " 'AudienceType_Audience Type 1',\n",
       " 'AudienceType_Audience Type 2',\n",
       " 'AudienceType_Audience Type 3',\n",
       " 'AudienceType_Audience Type 4',\n",
       " 'AudienceType_Audience Type 5']"
      ]
     },
     "execution_count": 40,
     "metadata": {},
     "output_type": "execute_result"
    }
   ],
   "source": [
    "#we will use ad features as our input data\n",
    "df.columns[15:].tolist()"
   ]
  },
  {
   "cell_type": "code",
   "execution_count": 45,
   "metadata": {},
   "outputs": [],
   "source": [
    "X=df.iloc[:,15:]"
   ]
  },
  {
   "cell_type": "code",
   "execution_count": 46,
   "metadata": {},
   "outputs": [
    {
     "data": {
      "text/plain": [
       "(339914, 32)"
      ]
     },
     "execution_count": 46,
     "metadata": {},
     "output_type": "execute_result"
    }
   ],
   "source": [
    "X.shape"
   ]
  },
  {
   "cell_type": "code",
   "execution_count": 51,
   "metadata": {},
   "outputs": [
    {
     "name": "stdout",
     "output_type": "stream",
     "text": [
      "Our Y variable is CTR\n"
     ]
    }
   ],
   "source": [
    "print('Our Y variable is {}'.format(df.columns[14]))"
   ]
  },
  {
   "cell_type": "code",
   "execution_count": 52,
   "metadata": {},
   "outputs": [],
   "source": [
    "Y=df.iloc[:,14]"
   ]
  },
  {
   "cell_type": "code",
   "execution_count": 54,
   "metadata": {},
   "outputs": [],
   "source": [
    "import pickle\n",
    "with open('Data/X_data.pkl','wb')as f:\n",
    "    pickle.dump(X,f)"
   ]
  },
  {
   "cell_type": "code",
   "execution_count": 55,
   "metadata": {},
   "outputs": [],
   "source": [
    "with open('Data/Y_data.pkl','wb')as f:\n",
    "    pickle.dump(Y,f)"
   ]
  },
  {
   "cell_type": "code",
   "execution_count": 59,
   "metadata": {},
   "outputs": [],
   "source": []
  },
  {
   "cell_type": "code",
   "execution_count": null,
   "metadata": {},
   "outputs": [],
   "source": []
  }
 ],
 "metadata": {
  "kernelspec": {
   "display_name": "Python 3",
   "language": "python",
   "name": "python3"
  },
  "language_info": {
   "codemirror_mode": {
    "name": "ipython",
    "version": 3
   },
   "file_extension": ".py",
   "mimetype": "text/x-python",
   "name": "python",
   "nbconvert_exporter": "python",
   "pygments_lexer": "ipython3",
   "version": "3.6.13"
  }
 },
 "nbformat": 4,
 "nbformat_minor": 4
}
